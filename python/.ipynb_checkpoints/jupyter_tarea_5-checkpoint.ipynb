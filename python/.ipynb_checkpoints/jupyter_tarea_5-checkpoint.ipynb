{
 "cells": [
  {
   "cell_type": "code",
   "execution_count": 1,
   "metadata": {},
   "outputs": [],
   "source": [
    "import numpy as np\n",
    "# OxP = [5,3]"
   ]
  },
  {
   "cell_type": "code",
   "execution_count": 2,
   "metadata": {},
   "outputs": [],
   "source": [
    "array = [[3,1,9,0,5,8,2,1,4,0],\n",
    "        [4,4,4,1,7,6,6,0,1,4],\n",
    "        [1,8,1,7,1,5,4,5,9,8],\n",
    "        [9,9,8,8,4,8,7,5,1,9],\n",
    "        [9,5,1,8,4,0,6,1,0,1],\n",
    "        [4,2,3,7,3,1,4,9,5,9],\n",
    "        [6,8,8,7,3,0,3,3,9,2],\n",
    "        [5,6,5,5,8,4,4,0,0,2],\n",
    "        [4,7,6,6,9,2,0,2,5,1],\n",
    "        [2,5,6,0,6,8,0,5,2,0],]\n",
    "\n",
    "np_array = np.array(array)"
   ]
  },
  {
   "cell_type": "code",
   "execution_count": 27,
   "metadata": {},
   "outputs": [
    {
     "data": {
      "text/plain": [
       "array([3, 1, 9, 0, 5, 8, 2, 1, 4, 0])"
      ]
     },
     "execution_count": 27,
     "metadata": {},
     "output_type": "execute_result"
    }
   ],
   "source": [
    "np_array[0]"
   ]
  },
  {
   "cell_type": "code",
   "execution_count": 31,
   "metadata": {},
   "outputs": [
    {
     "name": "stdout",
     "output_type": "stream",
     "text": [
      "93\n"
     ]
    }
   ],
   "source": [
    "sum = 0\n",
    "higer = 0\n",
    "coords = []\n",
    "\n",
    "for y in range(np_array.shape[1]-3):\n",
    "    for x in range(np_array.shape[0]-5):\n",
    "        for i in range(3):\n",
    "            for e in range(5):\n",
    "                sum += np_array[i+y][e+x]\n",
    "        if sum > higer:\n",
    "            higer = sum\n",
    "            coords = [y,x]\n",
    "        sum = 0\n",
    "print(higer)"
   ]
  },
  {
   "cell_type": "code",
   "execution_count": null,
   "metadata": {},
   "outputs": [],
   "source": []
  }
 ],
 "metadata": {
  "kernelspec": {
   "display_name": "Python 3",
   "language": "python",
   "name": "python3"
  },
  "language_info": {
   "codemirror_mode": {
    "name": "ipython",
    "version": 3
   },
   "file_extension": ".py",
   "mimetype": "text/x-python",
   "name": "python",
   "nbconvert_exporter": "python",
   "pygments_lexer": "ipython3",
   "version": "3.8.2"
  }
 },
 "nbformat": 4,
 "nbformat_minor": 4
}
