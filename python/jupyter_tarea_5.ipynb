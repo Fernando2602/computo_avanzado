{
 "cells": [
  {
   "cell_type": "code",
   "execution_count": 1,
   "metadata": {},
   "outputs": [],
   "source": [
    "import numpy as np"
   ]
  },
  {
   "cell_type": "code",
   "execution_count": 15,
   "metadata": {},
   "outputs": [],
   "source": [
    "P = 5\n",
    "O = 3\n",
    "\n",
    "array = [[3,1,9,0,5,8,2,1,4,0,1],\n",
    "        [4,4,4,1,7,6,6,0,1,4,1],\n",
    "        [1,8,1,7,1,5,4,5,9,8,1],\n",
    "        [9,9,8,8,4,8,7,5,1,9,1],\n",
    "        [9,5,1,8,4,0,6,1,0,1,1],\n",
    "        [4,2,3,7,3,1,4,9,5,9,1],\n",
    "        [6,8,8,7,3,0,3,3,9,2,1],\n",
    "        [5,6,5,5,8,4,4,0,0,2,1],\n",
    "        [4,7,6,6,9,2,0,2,5,1,1],\n",
    "        [2,5,6,0,6,8,0,5,2,0,1],]\n",
    "\n",
    "\"\"\"array = [[6,7,4,8,3],\n",
    "        [0,9,4,2,9],\n",
    "        [7,0,7,7,7],\n",
    "        [4,7,4,7,3],\n",
    "        [7,7,0,3,4],]\n",
    "\"\"\"\n",
    "np_array = np.array(array)"
   ]
  },
  {
   "cell_type": "code",
   "execution_count": 16,
   "metadata": {},
   "outputs": [
    {
     "name": "stdout",
     "output_type": "stream",
     "text": [
      "iteration: 0\n",
      "iteration: 1\n",
      "\n",
      "Results:\n",
      "[6, 0]\n",
      "93\n",
      "V\n"
     ]
    }
   ],
   "source": [
    "sum = 0\n",
    "higer = 0\n",
    "coords = []\n",
    "order = None\n",
    "\n",
    "for t in range(2 if O != P else 1):\n",
    "    o_size, p_size = (P, O) if t else (O, P)\n",
    "\n",
    "    for y in range(np_array.shape[0]-o_size+1):\n",
    "        for x in range(np_array.shape[1]-p_size+1):\n",
    "            for i in range(o_size):\n",
    "                for e in range(p_size):\n",
    "                    sum += np_array[i+y][e+x]\n",
    "            if sum > higer:\n",
    "                higer = sum\n",
    "                coords = [y,x]\n",
    "                if O == P:\n",
    "                    order = 'I'\n",
    "                else:\n",
    "                    order = ('H') if t else ('V')\n",
    "            sum = 0\n",
    "    print(f'iteration: {t}')\n",
    "\n",
    "print('\\nResults:')\n",
    "print(coords)\n",
    "print(higer)\n",
    "print(order)\n"
   ]
  },
  {
   "cell_type": "code",
   "execution_count": 47,
   "metadata": {},
   "outputs": [
    {
     "data": {
      "text/plain": [
       "array([6, 7, 4, 8, 3])"
      ]
     },
     "execution_count": 47,
     "metadata": {},
     "output_type": "execute_result"
    }
   ],
   "source": [
    "np_array[0]"
   ]
  },
  {
   "cell_type": "code",
   "execution_count": null,
   "metadata": {},
   "outputs": [],
   "source": []
  }
 ],
 "metadata": {
  "kernelspec": {
   "display_name": "Python 3",
   "language": "python",
   "name": "python3"
  },
  "language_info": {
   "codemirror_mode": {
    "name": "ipython",
    "version": 3
   },
   "file_extension": ".py",
   "mimetype": "text/x-python",
   "name": "python",
   "nbconvert_exporter": "python",
   "pygments_lexer": "ipython3",
   "version": "3.8.2"
  }
 },
 "nbformat": 4,
 "nbformat_minor": 4
}
